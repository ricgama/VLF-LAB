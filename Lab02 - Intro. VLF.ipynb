{
 "cells": [
  {
   "cell_type": "code",
   "execution_count": null,
   "metadata": {},
   "outputs": [],
   "source": [
    "import matplotlib.pyplot as plt\n",
    "\n",
    "import os\n",
    "%matplotlib inline\n",
    "from matplotlib.colors import LogNorm\n",
    "\n",
    "from IPython.display import Audio\n",
    "from ipywidgets import interactive\n",
    "\n",
    "import numpy as np\n",
    "import math\n",
    "\n",
    "import soundfile as sf\n",
    "\n",
    "from utils import *\n",
    "\n",
    "import warnings\n",
    "warnings.filterwarnings('ignore')"
   ]
  },
  {
   "cell_type": "code",
   "execution_count": null,
   "metadata": {},
   "outputs": [],
   "source": [
    "import soundfile as sf"
   ]
  },
  {
   "cell_type": "markdown",
   "metadata": {},
   "source": [
    "# Índice"
   ]
  },
  {
   "cell_type": "markdown",
   "metadata": {},
   "source": [
    "1. [Sinais em VLF](#int)\n",
    "    \n",
    "2. [Emissores de VLF](#emissores)\n",
    "      \n",
    "3. [Distâncias e Azimute](#dist)\n",
    "\n",
    "4. [Explorações](#exp)\n",
    "\n",
    "5. [Links](#links)\n"
   ]
  },
  {
   "cell_type": "markdown",
   "metadata": {},
   "source": [
    "# 1. Sinais em VLF\n",
    "\n",
    "<a id=\"int\"></a>"
   ]
  },
  {
   "cell_type": "markdown",
   "metadata": {},
   "source": [
    "As placas de som modernas permitem taxas de amostragem de 48kHz, 96kHz ou até mesmo $192kHz$. Pelo Teorema de Amostragem, com estas frequências de amostragem é possível receber sinais até $24kHz$, $48kHz$ e $96kHz$ respetivamente.\n",
    "\n",
    "Estas frequências abrangem as bandas de rádio que, habitualmente, são designadas de frequências muito baixas (ou [VLF](https://en.wikipedia.org/wiki/Very_low_frequency) - Very Low Frequencies na sigla inglesa) dos $0$ aos $30kHz$, e parte das frequências baixas (ou [LF](https://en.wikipedia.org/wiki/Low_frequency) - Low Frequencies na sigla inglesa) dos $30kHz$ aos $300kHz$. \n",
    "\n",
    "Uma vez que o nosso objeto de estudo são as frequências que vão de $0$ até aos $96kHz$, chamaremos, indiscriminadamente, a esta banda de frequências VLF. Ou seja, referir-nos-emos a VLF como todas as frequências que se conseguem receber com um simples placa de som de computador."
   ]
  },
  {
   "cell_type": "markdown",
   "metadata": {},
   "source": [
    "Vamos começar o nosso guião analisando uma pequena gravação em VLF:"
   ]
  },
  {
   "cell_type": "code",
   "execution_count": null,
   "metadata": {},
   "outputs": [],
   "source": [
    "Audio(\"media/vlf_sample.wav\") "
   ]
  },
  {
   "cell_type": "code",
   "execution_count": null,
   "metadata": {},
   "outputs": [],
   "source": [
    "input_signal, sample_rate = sf.read(\"media/vlf_sample.wav\")"
   ]
  },
  {
   "cell_type": "markdown",
   "metadata": {},
   "source": [
    "A gravação foi efetuada com uma taxa de amostragem de:"
   ]
  },
  {
   "cell_type": "code",
   "execution_count": null,
   "metadata": {},
   "outputs": [],
   "source": [
    "print('A taxa de amostragem do ficheiro é de %i Hz' %sample_rate)"
   ]
  },
  {
   "cell_type": "markdown",
   "metadata": {},
   "source": [
    "Vejamos a sua forma:"
   ]
  },
  {
   "cell_type": "code",
   "execution_count": null,
   "metadata": {},
   "outputs": [],
   "source": [
    "time_array = np.arange(0, len(input_signal)/sample_rate, 1/sample_rate)\n",
    "setup_graph(title='Amostra de uma gravação de VLF', x_label='time (in seconds)', y_label='amplitude', fig_size=(12,6))\n",
    "plt.plot(time_array, input_signal)\n",
    "plt.axis('tight')"
   ]
  },
  {
   "cell_type": "markdown",
   "metadata": {},
   "source": [
    "Calculando a transformada de Fourier ao sinal anterior, obtemos o seguinte espetro:"
   ]
  },
  {
   "cell_type": "code",
   "execution_count": null,
   "metadata": {},
   "outputs": [],
   "source": [
    "fft_out = np.fft.rfft(input_signal)\n",
    "\n",
    "fft_mag = np.abs(fft_out)/len(fft_out)\n",
    "\n",
    "num_samples = len(input_signal)\n",
    "\n",
    "rfreqs=sample_rate/2*np.linspace(0,1,num_samples//2+1)\n",
    "\n",
    "setup_graph(title='FFT', x_label='Frequência', y_label='Amplitude', fig_size=(12,6))\n",
    "plt.plot(rfreqs, fft_mag)\n",
    "plt.axis('tight')"
   ]
  },
  {
   "cell_type": "markdown",
   "metadata": {},
   "source": [
    "Como seria de esperar, a frequência máxima capturada pela gravação é de $f_{\\max} = \\frac{192000}{2} = 96kHz$."
   ]
  },
  {
   "cell_type": "markdown",
   "metadata": {},
   "source": [
    "Aparentemente, para além do pico em $f_0 = 0$, que representa a componente continua no sinal, não aparenta haver mais informação relevante.\n",
    "\n",
    "Isto acontece porque as diferenças em amplitude dos vários constituintes do sinal são demasiado grandes, chegando a ter algumas ordens de grandeza de diferença entre elas. Assim, de forma a conseguirmos visualizar convenientemente as várias componentes do espetro, teremos que o transformar de uma escala linear para uma logaritmica, aplicando a transformação: $y = 20 \\log_{10} (x)$. Além do mais, adicionamos uma constante:"
   ]
  },
  {
   "cell_type": "code",
   "execution_count": null,
   "metadata": {},
   "outputs": [],
   "source": [
    "eps=1e-12 "
   ]
  },
  {
   "cell_type": "markdown",
   "metadata": {},
   "source": [
    "O valor $eps=10^{-12}$ é uma constante usada para evitar erros decorrentes de eventuais $\\log_{10}(0)$. Assim:"
   ]
  },
  {
   "cell_type": "code",
   "execution_count": null,
   "metadata": {},
   "outputs": [],
   "source": [
    "fft_mag_dB = 20*np.log10(fft_mag+eps)"
   ]
  },
  {
   "cell_type": "markdown",
   "metadata": {},
   "source": [
    "Assim, o novo espetro em escala logaritmica, em decibeis, fica:"
   ]
  },
  {
   "cell_type": "code",
   "execution_count": null,
   "metadata": {},
   "outputs": [],
   "source": [
    "setup_graph(title='FFT', x_label='Frequência', y_label='Potência Espetral (dB)', fig_size=(12,6))\n",
    "plt.plot(rfreqs, fft_mag_dB)\n",
    "plt.axis('tight')"
   ]
  },
  {
   "cell_type": "markdown",
   "metadata": {},
   "source": [
    "No espetro anterior, já começamos a observar alguns picos a emergir da parte central. Pelo facto de ainda estarmos a calcular a transformada de Fourier em todo o sigal, o ruido cria uma banda central larga e ofusca ainda muito informação. \n",
    "\n"
   ]
  },
  {
   "cell_type": "markdown",
   "metadata": {},
   "source": [
    "Ao criarmos um espetrograma obtemos:"
   ]
  },
  {
   "cell_type": "code",
   "execution_count": null,
   "metadata": {},
   "outputs": [],
   "source": [
    "setup_graph(title='Espetrograma', x_label='tempo(segundos)', y_label='Frequência', fig_size=(12,6))\n",
    "\n",
    "Sxx,f, t, im = plt.specgram(input_signal, Fs=sample_rate, scale_by_freq=False, scale='linear', NFFT=1024, mode='magnitude')\n",
    "plt.colorbar(im).set_label('Amplitude')"
   ]
  },
  {
   "cell_type": "markdown",
   "metadata": {},
   "source": [
    "Numa escala linear, as diferenças em amplitude diferem de algumas potências de $10$ e como consequência a frequência $f_0$ satura a imagem e impossiblita a visualização do informação relevante.\n",
    "\n",
    "Fazendo a mesma representação numa escala logaritmica, `scale='dB'` , obtemos:"
   ]
  },
  {
   "cell_type": "code",
   "execution_count": null,
   "metadata": {},
   "outputs": [],
   "source": [
    "setup_graph(title='Spectrogram', x_label='tempo(segundos)', y_label='Frequência', fig_size=(12,6))\n",
    "\n",
    "Sxx, freqs, times, im = plt.specgram(input_signal, Fs=sample_rate, scale_by_freq=False, scale='dB', NFFT=1024, mode='magnitude')\n",
    "plt.colorbar(im).set_label('Potência Espetral (dB)')"
   ]
  },
  {
   "cell_type": "markdown",
   "metadata": {},
   "source": [
    "Procedendo como anteriormente, obtemos (apesar do gráfico anterior estar em escala logaritmica o seu output está em escala linear):"
   ]
  },
  {
   "cell_type": "code",
   "execution_count": null,
   "metadata": {},
   "outputs": [],
   "source": [
    "Sxx_dB = 20*np.log10(Sxx.astype(np.float32)+ eps)"
   ]
  },
  {
   "cell_type": "code",
   "execution_count": null,
   "metadata": {},
   "outputs": [],
   "source": [
    "fig = plt.figure(figsize=(12, 8))\n",
    "\n",
    "ax1 = fig.add_subplot(211)\n",
    "ax1.set_title('Raw wave ')\n",
    "ax1.set_ylabel('Amplitude')\n",
    "\n",
    "Tempgrav= float(len(input_signal))/float(sample_rate)\n",
    "\n",
    "ax1.plot(np.arange(0,Tempgrav,1/float(sample_rate)), input_signal)\n",
    "ax1.autoscale(enable=True, axis='both', tight=True)\n",
    "\n",
    "ax2 = fig.add_subplot(212)\n",
    "ax2.imshow(Sxx_dB, aspect='auto', origin='lower', \n",
    "           extent=[times.min(), times.max(), freqs.min(), freqs.max()])\n",
    "ax2.set_yticks(freqs[::50])\n",
    "ax2.set_xticks(times[::100])\n",
    "ax2.set_title('Spectrogram  ')\n",
    "ax2.set_ylabel('Freqs in Hz')\n",
    "ax2.set_xlabel('Seconds')\n",
    "ax2.autoscale(enable=True, axis='both', tight=True)\n",
    "plt.show()\n"
   ]
  },
  {
   "cell_type": "code",
   "execution_count": null,
   "metadata": {},
   "outputs": [],
   "source": [
    "fig = plt.figure(figsize=(12, 8))\n",
    "\n",
    "ax1 = fig.add_subplot(211)\n",
    "ax1.set_title('Raw wave')\n",
    "ax1.set_ylabel('Potência Espetral (dB)')\n",
    "\n",
    "Tempgrav= float(len(input_signal))/float(sample_rate)\n",
    "\n",
    "ax1.plot(freqs, Sxx_dB.mean(axis=1))\n",
    "ax1.autoscale(enable=True, axis='both', tight=True)\n",
    "\n",
    "ax2 = fig.add_subplot(212)\n",
    "ax2.imshow(Sxx_dB.T, aspect='auto', origin='lower', \n",
    "           extent=[freqs.min(), freqs.max(),times.min(), times.max()])\n",
    "ax2.set_yticks(times[::100])\n",
    "ax2.set_xticks(freqs[::50])\n",
    "ax2.set_title('Spectrogram')\n",
    "ax2.set_ylabel('Seconds')\n",
    "ax2.set_xlabel('Freqs in Hz')\n",
    "ax2.autoscale(enable=True, axis='both', tight=True)\n",
    "plt.show()"
   ]
  },
  {
   "cell_type": "markdown",
   "metadata": {},
   "source": [
    "Agora sim! O sinal que aparentava não ter nenhuma informação, afinal apresenta um espetro com uns picos claros em algumas frequências particulares. Como iremos ver já a seguir, cada pico desses é o sinal de um transmissor de VLF..."
   ]
  },
  {
   "cell_type": "markdown",
   "metadata": {},
   "source": [
    "# 2. Emissores de VLF\n",
    "\n",
    "<a id=\"emissores\"></a>"
   ]
  },
  {
   "cell_type": "markdown",
   "metadata": {},
   "source": [
    "Nas atividades que propomos desenvolver, vamos trabalhar com ondas rádio de frequências muito baixas, inferiores a $96kHz$. Por questões técnicas, esta banda de frequências foi a utilizada pelos pioneiros das telecomunicações, Marconi, Fessenden, entre outros, [5], nas suas primeiras experiências, e consequentemente, usada pelas primeiras estações comerciais e governamentais de rádio nas primeiras décadas do século XX, [6]. Por operarem com frequências da ordem dos kHz, estas primeiras estações de telecomunicações necessitavam de antenas gigantescas, ver Fig. 1, para serem eficazes, tornando-os dispendiosos e de difícil manutenção. \n",
    "Com o desenvolvimento da tecnologia, a utilização destas frequências baixas caiu em desuso tendo sido substituídas por sistemas mais práticos que operam a frequências bem mais elevadas."
   ]
  },
  {
   "cell_type": "markdown",
   "metadata": {},
   "source": [
    "<img src=\"https://upload.wikimedia.org/wikipedia/commons/thumb/e/ee/Cutlervlf2.jpg/640px-Cutlervlf2.jpg\" alt=\"Drawing\"  style=\"width: 50%;\"/>\n",
    "\n",
    "[fonte](https://en.wikipedia.org/wiki/File:Cutlervlf2.jpg)"
   ]
  },
  {
   "cell_type": "markdown",
   "metadata": {},
   "source": [
    "Atualmente, esta banda de VLF é maioritariamente utilizada para emissões militares, uma vez que estas frequências permitem obter uma cobertura global do planeta e têm a capacidade de penetrar na água dos oceanos a profundidades que possibilitam a comunicação com submarinos submergidos."
   ]
  },
  {
   "cell_type": "markdown",
   "metadata": {},
   "source": [
    "<img src=\"https://www.visitcumbria.com/photos/simon/anthorn-7922b.jpg\" alt=\"Drawing\" style=\"width: 50%;\"/>\n",
    "\n",
    "[fonte](https://www.visitcumbria.com/photos/simon/anthorn-7922b.jpg)"
   ]
  },
  {
   "cell_type": "markdown",
   "metadata": {},
   "source": [
    "A localização geográfica da grande parte destes emissores é conhecida:\n",
    "\n",
    "| Frequência (Hz) | Nome | Latitude | Longitude |\n",
    "| --- | --- | --- | --- |\n",
    "| 16400 | [JXN](https://en.wikipedia.org/wiki/Noviken_VLF_Transmitter) | 66.967° | 13.883° |\n",
    "| 19600 | [GBZ](https://en.wikipedia.org/wiki/Anthorn_Radio_Station) | 54.900° | -03.267° |\n",
    "| 20270 | ICV | 40.917° | 09.733° |\n",
    "| 20900 | FTA | 48.550° | 02.567° |\n",
    "| 21750 | [HWU](https://en.wikipedia.org/wiki/HWU_transmitter) | 46.717° | 01.250° |\n",
    "| 22100 | GQD | 54.733° | -02.883° |\n",
    "| 23400 | [DHO38](https://en.wikipedia.org/wiki/VLF_transmitter_DHO38) | 53.083° | 07.617° |\n",
    "| 24000 | [NAA](https://en.wikipedia.org/wiki/VLF_Transmitter_Cutler) | 44.650° | -67.283° |\n",
    "| 25200 | NML | 46.367° | -98.333° |\n",
    "| 26700 | TBB | 37.417° | 27.317° |\n",
    "| 37500 | NRK/TFK | 63.850° | -22.467° |\n",
    "| 40800 | [NAU](https://en.wikipedia.org/wiki/Aguada_transmission_station) | 18.400° | -67.183° |\n",
    "| 45900 | NSY | 37.126° | 14.436° |"
   ]
  },
  {
   "cell_type": "code",
   "execution_count": null,
   "metadata": {},
   "outputs": [],
   "source": [
    "emissores = {'JNX':(66.967,13.883),\n",
    "             'GBZ':(54.900,-3.278),\n",
    "             'ICV':(40.917,9.733),\n",
    "             'FTA':(48.550,2.567),\n",
    "             'HWU':(46.717,1.250),\n",
    "             'DHO34':(53.083,7.617),\n",
    "             'NAA':(44.650,-67.283),\n",
    "             'NML':(46.367,-98.333),\n",
    "             'TBB':(37.417,27.317),\n",
    "             'TFK':(63.850,-22.467),\n",
    "             'NAU':(18.400,-67.183),\n",
    "             'NSY':(37.126,14.436)}"
   ]
  },
  {
   "cell_type": "code",
   "execution_count": null,
   "metadata": {},
   "outputs": [],
   "source": [
    "emissores_mapa(emissores)"
   ]
  },
  {
   "cell_type": "markdown",
   "metadata": {
    "collapsed": true
   },
   "source": [
    "# 3. Distâncias e Azimute\n",
    "\n",
    "<a id=\"dist\"></a>"
   ]
  },
  {
   "cell_type": "markdown",
   "metadata": {},
   "source": [
    "Assumindo um modelo esférico para a Terra, a distância entre quaisquer dois pontos:$P_1=(lat_1,log_1)$ e $P_2=(lat_2,log_2)$ , é dada por:\n",
    "\n",
    "$$D= R \\arccos(\\sin(lat_1)\\sin(lat_2)+\\cos(lat_1)\\cos(lat_2)\\cos(long_2-long_1))\n",
    "$$\n",
    "\n",
    "sendo $R=6371km$, o raio médio da Terra.\n",
    "\n",
    "Ver também o [link](http://www.movable-type.co.uk/scripts/latlong.html)."
   ]
  },
  {
   "cell_type": "markdown",
   "metadata": {},
   "source": [
    "O Azimute, ângulo entre o eixo Norte-Sul e a geodésica percorrida pelo sinal, à chegada do recetor, em radianos, pode ser calculado através de:\n",
    "\n",
    "$$\\theta=\\arctan 2(Y,X),\n",
    "$$\n",
    "\n",
    "onde \n",
    "$$\n",
    "X=\\cos(lat_1)\\sin(lat_2)-\\sin(lat_1)\\cos(lat_2) \\cos(lon_2-lon_1)\n",
    "$$\n",
    "e\n",
    "$$\n",
    "Y= \\sin(lon_2-lon_1) \\cos(lat_2),\n",
    "$$\n",
    "\n",
    "onde consideramos o $P_1$ o ponto onde se localiza o nosso observatório."
   ]
  },
  {
   "cell_type": "markdown",
   "metadata": {},
   "source": [
    "Para ser mais simples criamos duas funções:"
   ]
  },
  {
   "cell_type": "code",
   "execution_count": null,
   "metadata": {},
   "outputs": [],
   "source": [
    "def Distancia(origin, destination):\n",
    "    lat1, lon1 = origin\n",
    "    lat2, lon2 = destination\n",
    "    radius = 6371 # km\n",
    "\n",
    "    rlat1 = math.radians(lat1) # conversão para radianos\n",
    "    rlon1 = math.radians(lon1) # conversão para radianos\n",
    "    rlat2 = math.radians(lat2) # conversão para radianos\n",
    "    rlon2 = math.radians(lon2) # conversão para radianos\n",
    "    \n",
    "    a = math.sin(rlat1) * math.sin(rlat2) + math.cos(rlat1)*math.cos(rlat2)*math.cos(rlon2-rlon1)\n",
    "    d = radius * math.acos(a)\n",
    "    print('A  distância entre os dois pontos é de %.2fkm' %d)\n",
    "    return d"
   ]
  },
  {
   "cell_type": "code",
   "execution_count": null,
   "metadata": {},
   "outputs": [],
   "source": [
    "def Azimute(origin, destination):\n",
    "    lat1, lon1 = origin\n",
    "    lat2, lon2 = destination\n",
    "\n",
    "    rlat1 = math.radians(lat1) # conversão para radianos\n",
    "    rlon1 = math.radians(lon1) # conversão para radianos\n",
    "    rlat2 = math.radians(lat2) # conversão para radianos\n",
    "    rlon2 = math.radians(lon2) # conversão para radianos\n",
    "    \n",
    "    X = math.cos(rlat1) * math.sin(rlat2) - math.sin(rlat1)*math.cos(rlat2)*math.cos(rlon2-rlon1)\n",
    "    Y = math.sin(rlon2-rlon1)*math.cos(rlat2)\n",
    "    \n",
    "    az = math.degrees(math.atan2(Y,X))\n",
    "    az =  (az+360) % 360 \n",
    "    az = (az+180) % 360 # Azimute final\n",
    "    \n",
    "    print('O Azimute final é de %.2f°' %az)\n",
    "\n",
    "    return az"
   ]
  },
  {
   "cell_type": "markdown",
   "metadata": {},
   "source": [
    "Consideremos o seguinte exemplo prático:"
   ]
  },
  {
   "cell_type": "code",
   "execution_count": null,
   "metadata": {},
   "outputs": [],
   "source": [
    "Viseu = (40.6582338,-7.9123233)\n",
    "DHO34 = emissores['DHO34']"
   ]
  },
  {
   "cell_type": "code",
   "execution_count": null,
   "metadata": {},
   "outputs": [],
   "source": [
    "d = Distancia(DHO34, Viseu)"
   ]
  },
  {
   "cell_type": "code",
   "execution_count": null,
   "metadata": {},
   "outputs": [],
   "source": [
    "a = Azimute(DHO34, Viseu)"
   ]
  },
  {
   "cell_type": "markdown",
   "metadata": {},
   "source": [
    "Vejamos o trajeto percorrido pelo sinal do emissor até ao recetor: "
   ]
  },
  {
   "cell_type": "code",
   "execution_count": null,
   "metadata": {},
   "outputs": [],
   "source": [
    "mapa_2pontos(DHO34, Viseu, nomes=['DHO34','Viseu'], limites = [-15,60,75,30])"
   ]
  },
  {
   "cell_type": "markdown",
   "metadata": {},
   "source": [
    "## 4. Explorações\n",
    "\n",
    "<a id=\"exp\"></a>"
   ]
  },
  {
   "cell_type": "markdown",
   "metadata": {},
   "source": [
    "Observe o espetro seguinte. Para cada uma das riscas espetrais que observa, identifique emissor responsável pela mesma, calculando a sua distância e posição no mapa."
   ]
  },
  {
   "cell_type": "code",
   "execution_count": null,
   "metadata": {},
   "outputs": [],
   "source": [
    "input_signals, sample_rate = sf.read('media/obser_001.wav')"
   ]
  },
  {
   "cell_type": "code",
   "execution_count": null,
   "metadata": {
    "scrolled": false
   },
   "outputs": [],
   "source": [
    "make_spect_plot(input_signals, sample_rate)"
   ]
  },
  {
   "cell_type": "markdown",
   "metadata": {
    "solution": "hidden",
    "solution2": "hidden",
    "solution2_first": true,
    "solution_first": true
   },
   "source": [
    "1º risca:"
   ]
  },
  {
   "cell_type": "code",
   "execution_count": null,
   "metadata": {
    "solution2": "hidden"
   },
   "outputs": [],
   "source": [
    "JXN = emissores['JNX']"
   ]
  },
  {
   "cell_type": "code",
   "execution_count": null,
   "metadata": {
    "solution2": "hidden"
   },
   "outputs": [],
   "source": [
    "d = distancia(JXN, Viseu)"
   ]
  },
  {
   "cell_type": "code",
   "execution_count": null,
   "metadata": {
    "solution2": "hidden"
   },
   "outputs": [],
   "source": [
    "mapa_2pontos(JXN, Viseu, nomes=['JXN','Viseu'], limites = [-15,60,75,30])"
   ]
  },
  {
   "cell_type": "code",
   "execution_count": null,
   "metadata": {},
   "outputs": [],
   "source": []
  },
  {
   "cell_type": "code",
   "execution_count": null,
   "metadata": {},
   "outputs": [],
   "source": []
  },
  {
   "cell_type": "code",
   "execution_count": null,
   "metadata": {},
   "outputs": [],
   "source": []
  },
  {
   "cell_type": "markdown",
   "metadata": {},
   "source": [
    "2º risca:"
   ]
  },
  {
   "cell_type": "code",
   "execution_count": null,
   "metadata": {},
   "outputs": [],
   "source": []
  },
  {
   "cell_type": "code",
   "execution_count": null,
   "metadata": {},
   "outputs": [],
   "source": []
  },
  {
   "cell_type": "code",
   "execution_count": null,
   "metadata": {},
   "outputs": [],
   "source": []
  },
  {
   "cell_type": "markdown",
   "metadata": {},
   "source": [
    "..."
   ]
  },
  {
   "cell_type": "code",
   "execution_count": null,
   "metadata": {},
   "outputs": [],
   "source": []
  },
  {
   "cell_type": "code",
   "execution_count": null,
   "metadata": {},
   "outputs": [],
   "source": []
  },
  {
   "cell_type": "code",
   "execution_count": null,
   "metadata": {},
   "outputs": [],
   "source": []
  },
  {
   "cell_type": "markdown",
   "metadata": {},
   "source": [
    "# 5. Links \n",
    "\n",
    "<a id=\"links\"></a>"
   ]
  },
  {
   "cell_type": "markdown",
   "metadata": {
    "solution": "hidden",
    "solution_first": true
   },
   "source": [
    "1. [ Sudden Ionospheric Disturbances Monitoring Station A118](https://sidstation.loudet.org/)\n",
    "\n",
    "2. [vlf.it](http://www.vlf.it/)\n",
    "\n",
    "3. [Construção de recetores rádio como introdução à Física das Telecomunicações - parte I ](https://www.spf.pt/magazines/GFIS/113/913)\n",
    "\n",
    "4. [Construção de recetores rádio como introdução à Física das Telecomunicações - parte II ](https://www.spf.pt/magazines/GFIS/114/931)\n",
    "\n",
    "5. [Ouvindo o emissor SAQ de Grimeton ](https://www.spf.pt/magazines/GFIS/118/969)\n"
   ]
  }
 ],
 "metadata": {
  "kernelspec": {
   "display_name": "vlf_lab",
   "language": "python",
   "name": "vlf_lab"
  },
  "language_info": {
   "codemirror_mode": {
    "name": "ipython",
    "version": 3
   },
   "file_extension": ".py",
   "mimetype": "text/x-python",
   "name": "python",
   "nbconvert_exporter": "python",
   "pygments_lexer": "ipython3",
   "version": "3.7.1"
  }
 },
 "nbformat": 4,
 "nbformat_minor": 1
}
