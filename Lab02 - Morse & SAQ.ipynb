{
 "cells": [
  {
   "cell_type": "code",
   "execution_count": null,
   "metadata": {},
   "outputs": [],
   "source": [
    "import matplotlib.pyplot as plt\n",
    "%matplotlib inline\n",
    "\n",
    "from IPython.display import Audio\n",
    "from ipywidgets import interactive\n",
    "\n",
    "import numpy as np\n",
    "import math\n",
    "\n",
    "from scipy.io.wavfile import read\n",
    "\n",
    "from utils import *\n",
    "\n",
    "import warnings\n",
    "warnings.filterwarnings('ignore')"
   ]
  },
  {
   "cell_type": "markdown",
   "metadata": {},
   "source": [
    "# Índice\n"
   ]
  },
  {
   "cell_type": "markdown",
   "metadata": {},
   "source": [
    "1. [SAQ](#saq)\n",
    "\n",
    "2. [Código Morse](#morse)\n",
    "\n",
    "3. [Ouvindo o SAQ](#osaq)\n",
    "\n",
    "4. [Explorações](#exp)\n",
    "\n",
    "5. [Links](#links)\n"
   ]
  },
  {
   "cell_type": "markdown",
   "metadata": {},
   "source": [
    "# 1. SAQ\n",
    "<a id=\"saq\"></a>"
   ]
  },
  {
   "cell_type": "markdown",
   "metadata": {},
   "source": [
    "O mais antigo transmissor de rádio, ainda em funcionamento, encontra-se localizado em Grimeton, na Suécia. Este emissor foi construído em 1922 e era usado para emissões de telegrafia transatlântica nas primeiras décadas do séc. XX.\n",
    "É atualmente reconhecido como Património da Humanidade pela UNESCO e efetua emissões comemorativas regulares. Uma vez que utiliza uma frequência de $17.2 kHz$, é possivel receber, ouvir e descodificar as suas mensagens em código Morse."
   ]
  },
  {
   "cell_type": "markdown",
   "metadata": {},
   "source": [
    "<img src=\"https://upload.wikimedia.org/wikipedia/commons/thumb/f/f9/Varberg_Radio_Station.jpg/640px-Varberg_Radio_Station.jpg\" alt=\"Drawing\"  style=\"width: 50%;\"/>\n",
    "\n",
    "[fonte](https://en.wikipedia.org/wiki/File:Varberg_Radio_Station.jpg)"
   ]
  },
  {
   "cell_type": "markdown",
   "metadata": {},
   "source": [
    "<img src=\"https://upload.wikimedia.org/wikipedia/commons/thumb/b/bb/Grimeton_VLF_masts.jpg/640px-Grimeton_VLF_masts.jpg\" alt=\"Drawing\"  style=\"width: 50%;\"/>\n",
    "\n",
    "[fonte](https://commons.wikimedia.org/wiki/File:Grimeton_VLF_masts.jpg)"
   ]
  },
  {
   "cell_type": "markdown",
   "metadata": {},
   "source": []
  },
  {
   "cell_type": "markdown",
   "metadata": {},
   "source": [
    "<img src=\"https://upload.wikimedia.org/wikipedia/commons/thumb/d/dc/Alexanderson_Alternator.jpg/640px-Alexanderson_Alternator.jpg\" alt=\"Drawing\"  style=\"width: 50%;\"/>\n",
    "\n",
    "[fonte](https://en.wikipedia.org/wiki/File:Alexanderson_Alternator.jpg)"
   ]
  },
  {
   "cell_type": "code",
   "execution_count": null,
   "metadata": {},
   "outputs": [],
   "source": []
  },
  {
   "cell_type": "markdown",
   "metadata": {},
   "source": [
    "..."
   ]
  },
  {
   "cell_type": "markdown",
   "metadata": {},
   "source": [
    "A escolha de Grimeton para construção deste transmissor, deveu-se ao facto de, que o sinal percorria uma grande parte do seu trajeto até Nova Iorque pelo oceano, diminuindo assim efeitos de absorção que ocorrem quando atravessa terreno continental."
   ]
  },
  {
   "cell_type": "code",
   "execution_count": null,
   "metadata": {},
   "outputs": [],
   "source": [
    "NY = (41.0,-73.0)\n",
    "SAQ = (57.113, 12.397)"
   ]
  },
  {
   "cell_type": "code",
   "execution_count": null,
   "metadata": {},
   "outputs": [],
   "source": [
    "mapa_2pontos(SAQ, NY, nomes=['SAQ','NY'])"
   ]
  },
  {
   "cell_type": "markdown",
   "metadata": {},
   "source": [
    "Relativamente a Viseu temos:"
   ]
  },
  {
   "cell_type": "code",
   "execution_count": null,
   "metadata": {},
   "outputs": [],
   "source": [
    "Viseu = (40.6582338,-7.9123233)\n",
    "SAQ = (57.113, 12.397)"
   ]
  },
  {
   "cell_type": "code",
   "execution_count": null,
   "metadata": {
    "solution": "hidden"
   },
   "outputs": [],
   "source": [
    "d = distancia(SAQ, Viseu)"
   ]
  },
  {
   "cell_type": "code",
   "execution_count": null,
   "metadata": {},
   "outputs": [],
   "source": [
    "mapa_2pontos(SAQ, Viseu, nomes=['SAQ','Viseu'])"
   ]
  },
  {
   "cell_type": "code",
   "execution_count": null,
   "metadata": {
    "solution": "hidden"
   },
   "outputs": [],
   "source": [
    "mapa_2pontos(SAQ, Viseu, nomes=['SAQ','Viseu'])"
   ]
  },
  {
   "cell_type": "markdown",
   "metadata": {
    "solution2": "shown"
   },
   "source": [
    "Presentemente, a Fundação Património da Humanidade de Grimeton é proprietária e operadora da estação. Um centro de visitantes foi construído e visitas guiadas são organizadas regularmente durante o verão e em qualquer altura para grupos sob pedido. A associação Alexander foi criada para dar apoio a estas actividades, tendo membros por toda a Suécia bem como em outros países. \n",
    "\n",
    "Na sua página ([link](www.alexander.n.se)), é dada informação sobre eventos e assuntos relacionados. Três transmissões anuais têm sido realizadas:\n",
    "* No dia Alexander, normalmente no domingo mais próximo de 1 de Julho, são realizadas duas transmissões. O público é convidado a observar as transmissões e a fazer visitas guiadas entre outras actividades.\n",
    "* No dia das Nações Unidas a 24 de Outubro.\n",
    "* Em todas as manhãs da véspera de Natal, sendo hoje em dia uma tradição popular. A origem desta tradição remonta à véspera de Natal de 1906 quando, para enorme surpresa dos operadores de rádio, Fessenden realizou uma transmissão com um dos seus alternadores, que este conseguiu modular para enviar uma mensagem com voz e música (com o próprio a tocar violino). Foi a primeira transmissão do género, comemorada 100 anos mais tarde com a transmissão de Grimeton. Desde então, uma mensagem de Natal é enviada todos os anos."
   ]
  },
  {
   "cell_type": "markdown",
   "metadata": {},
   "source": [
    "Para conseguirmos descodificar as mensagens do `SAQ`, vamos aprender um pouco sobre código Morse."
   ]
  },
  {
   "cell_type": "code",
   "execution_count": null,
   "metadata": {
    "solution": "hidden"
   },
   "outputs": [],
   "source": []
  },
  {
   "cell_type": "markdown",
   "metadata": {
    "collapsed": true
   },
   "source": [
    "# 2. Código Morse\n",
    "\n",
    "<a id=\"morse\"></a>"
   ]
  },
  {
   "cell_type": "markdown",
   "metadata": {},
   "source": [
    "Desenvolvido por [Samuel Morse](https://pt.wikipedia.org/wiki/Samuel_Morse), o código com o seu nome - [Código Morse](https://pt.wikipedia.org/wiki/C%C3%B3digo_Morse) era utilizado nas comunicações por telegrafo e nos primeiros anos de comunicações rádio. "
   ]
  },
  {
   "cell_type": "markdown",
   "metadata": {},
   "source": [
    "<img src=\"https://upload.wikimedia.org/wikipedia/commons/thumb/b/b5/International_Morse_Code.svg/596px-International_Morse_Code.svg.png\" alt=\"Drawing\"  style=\"width: 45%;\"/>\n",
    "\n",
    "[fonte](https://commons.wikimedia.org/wiki/File:International_Morse_Code.svg)"
   ]
  },
  {
   "cell_type": "markdown",
   "metadata": {},
   "source": [
    "Vamos ouvir um exemplo de algumas letras em Morse. \n",
    "\n",
    "Ex: Ouça algumas vezes o seguinte ficheiro, tentando apontar numa folha os pontos e traços para postrior descodificação do Morse."
   ]
  },
  {
   "cell_type": "code",
   "execution_count": null,
   "metadata": {},
   "outputs": [],
   "source": [
    "Audio('media/MORSE_00.wav') "
   ]
  },
  {
   "cell_type": "markdown",
   "metadata": {},
   "source": [
    "(Ficheiro gerado no site- [meridianoutpost](http://www.meridianoutpost.com/resources/etools/calculators/calculator-morse-code.php))"
   ]
  },
  {
   "cell_type": "markdown",
   "metadata": {},
   "source": [
    "Não é fácil a um \"ouvido\" não treinado, perveber e descodificar mensagems em Morse, mesmo que estejam numa velocidade lenta. Vamos aplicar o que aprendemos anteriormente para tentar visualizar a informação e melhor compreender que mensagem contem:"
   ]
  },
  {
   "cell_type": "code",
   "execution_count": null,
   "metadata": {},
   "outputs": [],
   "source": [
    "(sample_rate, input_signal) = read(\"media/MORSE_00.wav\")\n",
    "time_array = np.arange(0, len(input_signal)/sample_rate, 1/sample_rate)\n",
    "print('A taxa de amostragem do ficheiro é de %i Hz' %sample_rate)"
   ]
  },
  {
   "cell_type": "code",
   "execution_count": null,
   "metadata": {},
   "outputs": [],
   "source": [
    "setup_graph(title='MORSE_00', x_label='time (in seconds)', y_label='amplitude', fig_size=(12,6))\n",
    "plt.plot(time_array, input_signal)\n",
    "plt.axis('tight')"
   ]
  },
  {
   "cell_type": "code",
   "execution_count": null,
   "metadata": {},
   "outputs": [],
   "source": [
    "setup_graph(title='Spectrogram', x_label='tempo(segundos)', y_label='Frequência', fig_size=(12,6))\n",
    "\n",
    "Sxx,freqs, times, im = plt.specgram(input_signal, Fs=sample_rate, scale='linear', NFFT=256)"
   ]
  },
  {
   "cell_type": "markdown",
   "metadata": {
    "solution2": "hidden",
    "solution2_first": true
   },
   "source": [
    "Que letras estão codificadas na mensagem anterior?"
   ]
  },
  {
   "cell_type": "markdown",
   "metadata": {
    "solution2": "hidden"
   },
   "source": [
    "`D E A B F`"
   ]
  },
  {
   "cell_type": "markdown",
   "metadata": {},
   "source": [
    "Ex: Para cada um dos ficheiros seguintes, ouça o mesmo algumas vezes e tente descodificar a mensagem em código Morse neles contida. Seguidamente crie um espetrograma e confirme visualmente a sua resposta:"
   ]
  },
  {
   "cell_type": "code",
   "execution_count": null,
   "metadata": {
    "solution2": "hidden",
    "solution2_first": true
   },
   "outputs": [],
   "source": [
    "Audio('media/MORSE_01.wav') "
   ]
  },
  {
   "cell_type": "code",
   "execution_count": null,
   "metadata": {
    "scrolled": true,
    "solution2": "hidden"
   },
   "outputs": [],
   "source": [
    "(sample_rate, input_signal) = read(\"media/MORSE_01.wav\")"
   ]
  },
  {
   "cell_type": "code",
   "execution_count": null,
   "metadata": {
    "solution2": "hidden"
   },
   "outputs": [],
   "source": [
    "setup_graph(title='Spectrogram', x_label='tempo(segundos)', y_label='Frequência', fig_size=(12,6))\n",
    "Sxx,freqs, times, im = plt.specgram(input_signal, Fs=sample_rate, scale='linear', NFFT=256)"
   ]
  },
  {
   "cell_type": "markdown",
   "metadata": {
    "solution2": "hidden"
   },
   "source": [
    "A mensagem é: `R S P O V`"
   ]
  },
  {
   "cell_type": "code",
   "execution_count": null,
   "metadata": {},
   "outputs": [],
   "source": []
  },
  {
   "cell_type": "code",
   "execution_count": null,
   "metadata": {},
   "outputs": [],
   "source": []
  },
  {
   "cell_type": "code",
   "execution_count": null,
   "metadata": {
    "solution2": "hidden",
    "solution2_first": true
   },
   "outputs": [],
   "source": [
    "Audio('media/MORSE_02.wav') "
   ]
  },
  {
   "cell_type": "code",
   "execution_count": null,
   "metadata": {
    "solution2": "hidden"
   },
   "outputs": [],
   "source": [
    "(sample_rate, input_signal) = read(\"media/MORSE_02.wav\")"
   ]
  },
  {
   "cell_type": "code",
   "execution_count": null,
   "metadata": {
    "solution2": "hidden"
   },
   "outputs": [],
   "source": [
    "setup_graph(title='Spectrogram', x_label='tempo(segundos)', y_label='Frequência', fig_size=(12,6))\n",
    "Sxx,freqs, times, im = plt.specgram(input_signal, Fs=sample_rate, scale='linear', NFFT=256)"
   ]
  },
  {
   "cell_type": "markdown",
   "metadata": {
    "solution2": "hidden"
   },
   "source": [
    "A mensagem é: `Sol e Lua`"
   ]
  },
  {
   "cell_type": "code",
   "execution_count": null,
   "metadata": {},
   "outputs": [],
   "source": []
  },
  {
   "cell_type": "code",
   "execution_count": null,
   "metadata": {},
   "outputs": [],
   "source": []
  },
  {
   "cell_type": "code",
   "execution_count": null,
   "metadata": {
    "solution2": "hidden",
    "solution2_first": true
   },
   "outputs": [],
   "source": [
    "Audio('media/MORSE_03.wav') "
   ]
  },
  {
   "cell_type": "code",
   "execution_count": null,
   "metadata": {
    "solution2": "hidden"
   },
   "outputs": [],
   "source": [
    "(sample_rate, input_signal) = read(\"media/MORSE_03.wav\")"
   ]
  },
  {
   "cell_type": "code",
   "execution_count": null,
   "metadata": {
    "solution2": "hidden"
   },
   "outputs": [],
   "source": [
    "setup_graph(title='Spectrogram', x_label='tempo(segundos)', y_label='Frequência', fig_size=(12,6))\n",
    "Sxx,freqs, times, im = plt.specgram(input_signal, Fs=sample_rate, scale='linear', NFFT=256)"
   ]
  },
  {
   "cell_type": "markdown",
   "metadata": {
    "solution2": "hidden"
   },
   "source": [
    "A mensagem é: `Boa Vida`"
   ]
  },
  {
   "cell_type": "code",
   "execution_count": null,
   "metadata": {},
   "outputs": [],
   "source": []
  },
  {
   "cell_type": "code",
   "execution_count": null,
   "metadata": {},
   "outputs": [],
   "source": []
  },
  {
   "cell_type": "code",
   "execution_count": null,
   "metadata": {
    "solution2": "hidden",
    "solution2_first": true
   },
   "outputs": [],
   "source": [
    "Audio('media/MORSE_04.wav') "
   ]
  },
  {
   "cell_type": "code",
   "execution_count": null,
   "metadata": {
    "solution2": "hidden"
   },
   "outputs": [],
   "source": [
    "(sample_rate, input_signal) = read(\"media/MORSE_04.wav\")"
   ]
  },
  {
   "cell_type": "code",
   "execution_count": null,
   "metadata": {
    "solution2": "hidden"
   },
   "outputs": [],
   "source": [
    "setup_graph(title='Spectrogram', x_label='tempo(segundos)', y_label='Frequência', fig_size=(12,6))\n",
    "Sxx,freqs, times, im = plt.specgram(input_signal, Fs=sample_rate, scale='linear', NFFT=256)"
   ]
  },
  {
   "cell_type": "markdown",
   "metadata": {
    "solution2": "hidden"
   },
   "source": [
    "A mensagem é: `Come chocolates pequena`"
   ]
  },
  {
   "cell_type": "code",
   "execution_count": null,
   "metadata": {},
   "outputs": [],
   "source": []
  },
  {
   "cell_type": "code",
   "execution_count": null,
   "metadata": {},
   "outputs": [],
   "source": []
  },
  {
   "cell_type": "markdown",
   "metadata": {},
   "source": [
    "# 3. Ouvindo o SAQ\n",
    "<a id=\"osaq\"></a>"
   ]
  },
  {
   "cell_type": "markdown",
   "metadata": {},
   "source": [
    "O início de cada transmissão é realizado do seguinte modo:\n",
    "* Durante o arranque, enquanto a antena é afinada e outros ajustes são realizados, uma série de sinais internacionais para efeitos de teste são transmitidos, `V's`, juntamente com o indicativo da estação, `SAQ`.\n",
    "* A transmissão oficial inicia com: `CQ CQ CQ DE SAQ SAQ`, ou `VVV VVV VVV DE SAQ SAQ` repetida uma série de vezes. `CQ` é o sinal para uma chamada geral e `DE` é simplesmente \"de\" (já que os termos de telecomunicações eram inicialmente dados em francês).\n",
    "* Seguidamente, a mensagem é transmitida, demorando aproximadamente 10 minutos."
   ]
  },
  {
   "cell_type": "code",
   "execution_count": null,
   "metadata": {},
   "outputs": [],
   "source": []
  },
  {
   "cell_type": "code",
   "execution_count": null,
   "metadata": {},
   "outputs": [],
   "source": [
    "make_spect_plot('../Observações/data_files/24_12_2018_Avelinha')"
   ]
  },
  {
   "cell_type": "code",
   "execution_count": null,
   "metadata": {},
   "outputs": [],
   "source": []
  },
  {
   "cell_type": "code",
   "execution_count": null,
   "metadata": {},
   "outputs": [],
   "source": []
  },
  {
   "cell_type": "markdown",
   "metadata": {
    "heading_collapsed": true
   },
   "source": [
    "# 4. Explorações\n",
    "\n",
    "<a id=\"exp\"></a>"
   ]
  },
  {
   "cell_type": "code",
   "execution_count": null,
   "metadata": {
    "hidden": true
   },
   "outputs": [],
   "source": []
  },
  {
   "cell_type": "code",
   "execution_count": null,
   "metadata": {
    "hidden": true
   },
   "outputs": [],
   "source": []
  },
  {
   "cell_type": "markdown",
   "metadata": {},
   "source": [
    "# 5. Links \n",
    "\n",
    "<a id=\"links\"></a>"
   ]
  },
  {
   "cell_type": "markdown",
   "metadata": {},
   "source": [
    "1. [The Alexander association](https://alexander.n.se/)\n",
    "\n",
    "2. [Código Morse](https://en.wikipedia.org/wiki/Morse_code)\n",
    "\n",
    "3. [Construção de recetores rádio como introdução à Física das Telecomunicações - parte I ](https://www.spf.pt/magazines/GFIS/113/913)\n",
    "\n",
    "4. [Construção de recetores rádio como introdução à Física das Telecomunicações - parte II ](https://www.spf.pt/magazines/GFIS/114/931)\n",
    "\n",
    "5. [Ouvindo o emissor SAQ de Grimeton ](https://www.spf.pt/magazines/GFIS/118/969)"
   ]
  },
  {
   "cell_type": "code",
   "execution_count": null,
   "metadata": {},
   "outputs": [],
   "source": []
  }
 ],
 "metadata": {
  "kernelspec": {
   "display_name": "vlf",
   "language": "python",
   "name": "vlf"
  },
  "language_info": {
   "codemirror_mode": {
    "name": "ipython",
    "version": 3
   },
   "file_extension": ".py",
   "mimetype": "text/x-python",
   "name": "python",
   "nbconvert_exporter": "python",
   "pygments_lexer": "ipython3",
   "version": "3.7.4"
  }
 },
 "nbformat": 4,
 "nbformat_minor": 1
}
