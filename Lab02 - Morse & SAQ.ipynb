{
 "cells": [
  {
   "cell_type": "code",
   "execution_count": null,
   "metadata": {},
   "outputs": [],
   "source": [
    "import matplotlib.pyplot as plt\n",
    "%matplotlib inline\n",
    "\n",
    "from IPython.display import Audio\n",
    "from ipywidgets import interactive\n",
    "\n",
    "import numpy as np\n",
    "import math\n",
    "\n",
    "from scipy.io.wavfile import read\n",
    "\n",
    "from utils import *\n",
    "\n",
    "import warnings\n",
    "warnings.filterwarnings('ignore')"
   ]
  },
  {
   "cell_type": "markdown",
   "metadata": {},
   "source": [
    "# Índice\n"
   ]
  },
  {
   "cell_type": "markdown",
   "metadata": {},
   "source": [
    "1. [SAQ](#saq)\n",
    "\n",
    "2. [Código Morse](#morse)\n",
    "\n",
    "3. [Ouvindo o SAQ](#osaq)\n",
    "\n",
    "4. [Explorações](#exp)\n",
    "\n",
    "5. [Links](#links)\n"
   ]
  },
  {
   "cell_type": "markdown",
   "metadata": {},
   "source": [
    "# 1. SAQ\n",
    "<a id=\"saq\"></a>"
   ]
  },
  {
   "cell_type": "markdown",
   "metadata": {},
   "source": [
    "O mais antigo transmissor de rádio, ainda em funcionamento, encontra-se localizado em Grimeton, na Suécia. Este emissor era usado para emissões de telegrafia transatlântica nas primeiras décadas do séc. XX.\n",
    "É atualmente reconhecido como Património da Humanidade pela UNESCO e efetua emissões comemorativas regulares. Uma vez que utiliza uma frequência de $17.2 kHz$, é possivel receber, ouvir e descodificar as suas mensagens em código Morse."
   ]
  },
  {
   "cell_type": "markdown",
   "metadata": {},
   "source": [
    "<img src=\"https://upload.wikimedia.org/wikipedia/commons/thumb/f/f9/Varberg_Radio_Station.jpg/640px-Varberg_Radio_Station.jpg\" alt=\"Drawing\"  style=\"width: 50%;\"/>\n",
    "\n",
    "[fonte](https://en.wikipedia.org/wiki/File:Varberg_Radio_Station.jpg)"
   ]
  },
  {
   "cell_type": "markdown",
   "metadata": {},
   "source": [
    "<img src=\"https://upload.wikimedia.org/wikipedia/commons/thumb/b/bb/Grimeton_VLF_masts.jpg/640px-Grimeton_VLF_masts.jpg\" alt=\"Drawing\"  style=\"width: 50%;\"/>\n",
    "\n",
    "[fonte](https://commons.wikimedia.org/wiki/File:Grimeton_VLF_masts.jpg)"
   ]
  },
  {
   "cell_type": "markdown",
   "metadata": {},
   "source": [
    "A sua construção data do período logo após a Primeira Guerra Mundial, por volta do ano 1922, impulsionada pelo corte dos cabos submarinos de telegrafia. \n",
    "\n",
    "Embora os cabos tenham sido reparados  depois da guerra e as comunicações reestabelecidas, a Suécia, tal como muitos outros países, continuava dependente de terceiros para comunicações de longa distância o que não era, a longo prazo, uma situação desejável. "
   ]
  },
  {
   "cell_type": "markdown",
   "metadata": {},
   "source": [
    "<img src=\"https://upload.wikimedia.org/wikipedia/commons/thumb/d/dc/Alexanderson_Alternator.jpg/640px-Alexanderson_Alternator.jpg\" alt=\"Drawing\"  style=\"width: 50%;\"/>\n",
    "\n",
    "Transmissor de Alexanderson da estação de Grimeton. [fonte](https://en.wikipedia.org/wiki/File:Alexanderson_Alternator.jpg)"
   ]
  },
  {
   "cell_type": "markdown",
   "metadata": {},
   "source": [
    "A aldeia de Grimeton foi escolhida  para construção deste transmissor, pois os sinais chegavam a Nova Iorque sem muita atenuação, seguindo a curvatura da Terra entre dois condutores: a água marinha e a ionosfera."
   ]
  },
  {
   "cell_type": "code",
   "execution_count": null,
   "metadata": {},
   "outputs": [],
   "source": [
    "NY = (41.0,-73.0)\n",
    "SAQ = (57.113, 12.397)"
   ]
  },
  {
   "cell_type": "code",
   "execution_count": null,
   "metadata": {},
   "outputs": [],
   "source": [
    "mapa_2pontos(SAQ, NY, nomes=['SAQ','NY'])"
   ]
  },
  {
   "cell_type": "markdown",
   "metadata": {},
   "source": [
    "Mapa de Grimeton - Nova Iorque. Ao longo de $100km$ de costa na província de Halland, a sul de Gotenburgo, um grande círculo pode ser desenhado até Nova Iorque, praticamente sem tocar terra. Este facto é extremamente importante pois a absorção da radiação que passa sobre terra é consideravelmente maior do que a que passa sobre a água salina que é condutora de eletricidade. A antiga aldeia de Grimeton está situada a $10km$  da costa, evitando assim ataques pelos navios couraçados da época."
   ]
  },
  {
   "cell_type": "markdown",
   "metadata": {},
   "source": [
    "Relativamente a Viseu temos:"
   ]
  },
  {
   "cell_type": "code",
   "execution_count": null,
   "metadata": {},
   "outputs": [],
   "source": [
    "Viseu = (40.6582338,-7.9123233)\n",
    "SAQ = (57.113, 12.397)"
   ]
  },
  {
   "cell_type": "code",
   "execution_count": null,
   "metadata": {
    "solution": "hidden"
   },
   "outputs": [],
   "source": [
    "d = distancia(SAQ, Viseu)"
   ]
  },
  {
   "cell_type": "code",
   "execution_count": null,
   "metadata": {},
   "outputs": [],
   "source": [
    "mapa_2pontos(SAQ, Viseu, nomes=['SAQ','Viseu'])"
   ]
  },
  {
   "cell_type": "code",
   "execution_count": null,
   "metadata": {
    "solution": "hidden"
   },
   "outputs": [],
   "source": [
    "mapa_2pontos_eur(SAQ, Viseu, nomes=['SAQ','Viseu'])"
   ]
  },
  {
   "cell_type": "markdown",
   "metadata": {
    "solution2": "shown"
   },
   "source": [
    "Presentemente, a Fundação Património da Humanidade de Grimeton é proprietária e operadora da estação. Um centro de visitantes foi construído e visitas guiadas são organizadas regularmente durante o verão e em qualquer altura para grupos sob pedido. A associação Alexander foi criada para dar apoio a estas actividades, tendo membros por toda a Suécia bem como em outros países. \n",
    "\n",
    "Na sua página ([link](www.alexander.n.se)), é dada informação sobre eventos e assuntos relacionados. Três transmissões anuais têm sido realizadas:\n",
    "* No dia Alexander, normalmente no domingo mais próximo de 1 de Julho, são realizadas duas transmissões. O público é convidado a observar as transmissões e a fazer visitas guiadas entre outras actividades.\n",
    "* No dia das Nações Unidas a 24 de Outubro.\n",
    "* Em todas as manhãs da véspera de Natal, sendo hoje em dia uma tradição popular. A origem desta tradição remonta à véspera de Natal de 1906 quando, para enorme surpresa dos operadores de rádio, Fessenden realizou uma transmissão com um dos seus alternadores, que este conseguiu modular para enviar uma mensagem com voz e música (com o próprio a tocar violino). Foi a primeira transmissão do género, comemorada 100 anos mais tarde com a transmissão de Grimeton. Desde então, uma mensagem de Natal é enviada todos os anos."
   ]
  },
  {
   "cell_type": "markdown",
   "metadata": {},
   "source": [
    "Para conseguirmos descodificar as mensagens do `SAQ`, vamos aprender um pouco sobre código Morse."
   ]
  },
  {
   "cell_type": "code",
   "execution_count": null,
   "metadata": {
    "solution": "hidden"
   },
   "outputs": [],
   "source": []
  },
  {
   "cell_type": "markdown",
   "metadata": {
    "collapsed": true
   },
   "source": [
    "# 2. Código Morse\n",
    "\n",
    "<a id=\"morse\"></a>"
   ]
  },
  {
   "cell_type": "markdown",
   "metadata": {},
   "source": [
    "Desenvolvido por [Samuel Morse](https://pt.wikipedia.org/wiki/Samuel_Morse), o código com o seu nome - [Código Morse](https://pt.wikipedia.org/wiki/C%C3%B3digo_Morse) era utilizado nas comunicações por telegrafo e nos primeiros anos de comunicações rádio. "
   ]
  },
  {
   "cell_type": "markdown",
   "metadata": {},
   "source": [
    "<img src=\"https://upload.wikimedia.org/wikipedia/commons/thumb/b/b5/International_Morse_Code.svg/596px-International_Morse_Code.svg.png\" alt=\"Drawing\"  style=\"width: 45%;\"/>\n",
    "\n",
    "[fonte](https://commons.wikimedia.org/wiki/File:International_Morse_Code.svg)"
   ]
  },
  {
   "cell_type": "markdown",
   "metadata": {},
   "source": [
    "Vamos ouvir um exemplo de algumas letras em Morse. \n",
    "\n",
    "Ex: Ouça algumas vezes o seguinte ficheiro, tentando apontar numa folha os pontos e traços para postrior descodificação do Morse."
   ]
  },
  {
   "cell_type": "code",
   "execution_count": null,
   "metadata": {},
   "outputs": [],
   "source": [
    "Audio('media/MORSE_00.wav') "
   ]
  },
  {
   "cell_type": "markdown",
   "metadata": {},
   "source": [
    "(Ficheiro gerado no site- [meridianoutpost](http://www.meridianoutpost.com/resources/etools/calculators/calculator-morse-code.php))"
   ]
  },
  {
   "cell_type": "markdown",
   "metadata": {},
   "source": [
    "Não é fácil a um \"ouvido\" não treinado, perveber e descodificar mensagems em Morse, mesmo que estejam numa velocidade lenta. Vamos aplicar o que aprendemos anteriormente para tentar visualizar a informação e melhor compreender que mensagem contem:"
   ]
  },
  {
   "cell_type": "code",
   "execution_count": null,
   "metadata": {},
   "outputs": [],
   "source": [
    "(sample_rate, input_signal) = read(\"media/MORSE_00.wav\")\n",
    "time_array = np.arange(0, len(input_signal)/sample_rate, 1/sample_rate)\n",
    "print('A taxa de amostragem do ficheiro é de %i Hz' %sample_rate)"
   ]
  },
  {
   "cell_type": "code",
   "execution_count": null,
   "metadata": {},
   "outputs": [],
   "source": [
    "setup_graph(title='MORSE_00', x_label='time (in seconds)', y_label='amplitude', fig_size=(12,6))\n",
    "plt.plot(time_array, input_signal)\n",
    "plt.axis('tight')"
   ]
  },
  {
   "cell_type": "code",
   "execution_count": null,
   "metadata": {},
   "outputs": [],
   "source": [
    "setup_graph(title='Spectrogram', x_label='tempo(segundos)', y_label='Frequência', fig_size=(12,6))\n",
    "\n",
    "Sxx,freqs, times, im = plt.specgram(input_signal, Fs=sample_rate, scale='linear', NFFT=256)"
   ]
  },
  {
   "cell_type": "markdown",
   "metadata": {
    "solution2": "hidden",
    "solution2_first": true
   },
   "source": [
    "Que letras estão codificadas na mensagem anterior?"
   ]
  },
  {
   "cell_type": "markdown",
   "metadata": {
    "solution2": "hidden"
   },
   "source": [
    "`D E A B F`"
   ]
  },
  {
   "cell_type": "markdown",
   "metadata": {},
   "source": [
    "Ex: Para cada um dos ficheiros seguintes, ouça o mesmo algumas vezes e tente descodificar a mensagem em código Morse neles contida. Seguidamente crie um espetrograma e confirme visualmente a sua resposta:"
   ]
  },
  {
   "cell_type": "code",
   "execution_count": null,
   "metadata": {
    "solution2": "hidden",
    "solution2_first": true
   },
   "outputs": [],
   "source": [
    "Audio('media/MORSE_01.wav') "
   ]
  },
  {
   "cell_type": "code",
   "execution_count": null,
   "metadata": {
    "scrolled": true,
    "solution2": "hidden"
   },
   "outputs": [],
   "source": [
    "(sample_rate, input_signal) = read(\"media/MORSE_01.wav\")"
   ]
  },
  {
   "cell_type": "code",
   "execution_count": null,
   "metadata": {
    "solution2": "hidden"
   },
   "outputs": [],
   "source": [
    "setup_graph(title='Spectrogram', x_label='tempo(segundos)', y_label='Frequência', fig_size=(12,6))\n",
    "Sxx,freqs, times, im = plt.specgram(input_signal, Fs=sample_rate, scale='linear', NFFT=256)"
   ]
  },
  {
   "cell_type": "markdown",
   "metadata": {
    "solution2": "hidden"
   },
   "source": [
    "A mensagem é: `R S P O V`"
   ]
  },
  {
   "cell_type": "code",
   "execution_count": null,
   "metadata": {},
   "outputs": [],
   "source": []
  },
  {
   "cell_type": "code",
   "execution_count": null,
   "metadata": {},
   "outputs": [],
   "source": []
  },
  {
   "cell_type": "code",
   "execution_count": null,
   "metadata": {
    "solution2": "hidden",
    "solution2_first": true
   },
   "outputs": [],
   "source": [
    "Audio('media/MORSE_02.wav') "
   ]
  },
  {
   "cell_type": "code",
   "execution_count": null,
   "metadata": {
    "solution2": "hidden"
   },
   "outputs": [],
   "source": [
    "(sample_rate, input_signal) = read(\"media/MORSE_02.wav\")"
   ]
  },
  {
   "cell_type": "code",
   "execution_count": null,
   "metadata": {
    "solution2": "hidden"
   },
   "outputs": [],
   "source": [
    "setup_graph(title='Spectrogram', x_label='tempo(segundos)', y_label='Frequência', fig_size=(12,6))\n",
    "Sxx,freqs, times, im = plt.specgram(input_signal, Fs=sample_rate, scale='linear', NFFT=256)"
   ]
  },
  {
   "cell_type": "markdown",
   "metadata": {
    "solution2": "hidden"
   },
   "source": [
    "A mensagem é: `Sol e Lua`"
   ]
  },
  {
   "cell_type": "code",
   "execution_count": null,
   "metadata": {},
   "outputs": [],
   "source": []
  },
  {
   "cell_type": "code",
   "execution_count": null,
   "metadata": {},
   "outputs": [],
   "source": []
  },
  {
   "cell_type": "code",
   "execution_count": null,
   "metadata": {
    "solution2": "hidden",
    "solution2_first": true
   },
   "outputs": [],
   "source": [
    "Audio('media/MORSE_03.wav') "
   ]
  },
  {
   "cell_type": "code",
   "execution_count": null,
   "metadata": {
    "solution2": "hidden"
   },
   "outputs": [],
   "source": [
    "(sample_rate, input_signal) = read(\"media/MORSE_03.wav\")"
   ]
  },
  {
   "cell_type": "code",
   "execution_count": null,
   "metadata": {
    "solution2": "hidden"
   },
   "outputs": [],
   "source": [
    "setup_graph(title='Spectrogram', x_label='tempo(segundos)', y_label='Frequência', fig_size=(12,6))\n",
    "Sxx,freqs, times, im = plt.specgram(input_signal, Fs=sample_rate, scale='linear', NFFT=256)"
   ]
  },
  {
   "cell_type": "markdown",
   "metadata": {
    "solution2": "hidden"
   },
   "source": [
    "A mensagem é: `Boa Vida`"
   ]
  },
  {
   "cell_type": "code",
   "execution_count": null,
   "metadata": {},
   "outputs": [],
   "source": []
  },
  {
   "cell_type": "code",
   "execution_count": null,
   "metadata": {},
   "outputs": [],
   "source": []
  },
  {
   "cell_type": "code",
   "execution_count": null,
   "metadata": {
    "solution2": "hidden",
    "solution2_first": true
   },
   "outputs": [],
   "source": [
    "Audio('media/MORSE_04.wav') "
   ]
  },
  {
   "cell_type": "code",
   "execution_count": null,
   "metadata": {
    "solution2": "hidden"
   },
   "outputs": [],
   "source": [
    "(sample_rate, input_signal) = read(\"media/MORSE_04.wav\")"
   ]
  },
  {
   "cell_type": "code",
   "execution_count": null,
   "metadata": {
    "solution2": "hidden"
   },
   "outputs": [],
   "source": [
    "setup_graph(title='Spectrogram', x_label='tempo(segundos)', y_label='Frequência', fig_size=(12,6))\n",
    "Sxx,freqs, times, im = plt.specgram(input_signal, Fs=sample_rate, scale='linear', NFFT=256)"
   ]
  },
  {
   "cell_type": "markdown",
   "metadata": {
    "solution2": "hidden"
   },
   "source": [
    "A mensagem é: `Come chocolates pequena`"
   ]
  },
  {
   "cell_type": "code",
   "execution_count": null,
   "metadata": {},
   "outputs": [],
   "source": []
  },
  {
   "cell_type": "code",
   "execution_count": null,
   "metadata": {},
   "outputs": [],
   "source": []
  },
  {
   "cell_type": "markdown",
   "metadata": {},
   "source": [
    "# 3. Ouvindo o SAQ\n",
    "<a id=\"osaq\"></a>"
   ]
  },
  {
   "cell_type": "markdown",
   "metadata": {},
   "source": [
    "Vamos agora analisar e descodificar algumas gravações de transmissões do SAQ. O início de cada transmissão é realizado do seguinte modo:\n",
    "* Durante o arranque, enquanto a antena é afinada e outros ajustes são realizados, uma série de sinais internacionais para efeitos de teste são transmitidos, `V's`, juntamente com o indicativo da estação, `SAQ`.\n",
    "* A transmissão oficial inicia com: `CQ CQ CQ DE SAQ SAQ`, ou `VVV VVV VVV DE SAQ SAQ` repetida uma série de vezes. `CQ` é o sinal para uma chamada geral e `DE` é simplesmente \"de\" (já que os termos de telecomunicações eram inicialmente dados em francês).\n",
    "* Seguidamente, a mensagem é transmitida, demorando aproximadamente 10 minutos."
   ]
  },
  {
   "cell_type": "markdown",
   "metadata": {},
   "source": [
    "Começemos por uma gravação efetuada no dia das Nações Unidas em 2010:"
   ]
  },
  {
   "cell_type": "code",
   "execution_count": null,
   "metadata": {},
   "outputs": [],
   "source": [
    "make_spect_plot('media/SAQ24102010.wav', nptf=8192, overlap=0.5, fmin=16000, fmax=22000)"
   ]
  },
  {
   "cell_type": "markdown",
   "metadata": {},
   "source": [
    "Como podemos observar, para além dos emissores usuais, temos um pico centrado na frequencia $17.2Khz$ do SAQ. \n",
    "Vamos agora selecionar um intervalo de tempo mais pequeno:"
   ]
  },
  {
   "cell_type": "code",
   "execution_count": null,
   "metadata": {},
   "outputs": [],
   "source": [
    "make_spect_plot_H('media/SAQ24102010.wav', nptf=2048, overlap=0.75, fmin=17000, fmax=17400, tmin=0.55, tmax=0.9)"
   ]
  },
  {
   "cell_type": "markdown",
   "metadata": {},
   "source": [
    "Prestando atenção, podemos observar o sinal de chamada em Morse `VVV VVV VVV DE SAQ SAQ`, que ocorre antes da mensagem principal.\n",
    "\n",
    "Na mesma efeméride, no ano de 2015, um excerto da gravação apresenta o seguinte espetografo:"
   ]
  },
  {
   "cell_type": "code",
   "execution_count": null,
   "metadata": {},
   "outputs": [],
   "source": [
    "make_spect_plot('media/SAQ24102015.wav')"
   ]
  },
  {
   "cell_type": "markdown",
   "metadata": {},
   "source": [
    "O pico na frequência do `SAQ` está presente e au seu lado, em $18.1kHz$ podemos também observar um tramsnissor militar Russo: o `RDL`.\n",
    "\n",
    "O `RDL` transmite, para além de informação codificada em modos digitais, mensagens em código Morse, como o nome da estação e chamada. O Morse do `RDL` tem a partucularidade de ser transmitido de forma diferente do `SAQ`. Neste transmissor, o Morse é codificado não por on/off do sinal, mas por mudança de frequência do mesmo. Ora vejamos:"
   ]
  },
  {
   "cell_type": "code",
   "execution_count": null,
   "metadata": {},
   "outputs": [],
   "source": [
    "make_spect_plot_H('media/SAQ24102015.wav', nptf=16384, overlap=0.9, fmin=17000, fmax=18600, tmin=0.45, tmax=0.60)"
   ]
  },
  {
   "cell_type": "markdown",
   "metadata": {
    "solution2": "hidden",
    "solution2_first": true
   },
   "source": [
    "Ex: Descodifique as mensagens em Morse do `SAQ` e do `RDL`."
   ]
  },
  {
   "cell_type": "markdown",
   "metadata": {
    "solution2": "hidden"
   },
   "source": [
    "`SAQ`: `VVV DE SAQ`  ; `RDL`:  `XXX XXX`"
   ]
  },
  {
   "cell_type": "markdown",
   "metadata": {},
   "source": [
    "# 4. Explorações\n",
    "\n",
    "<a id=\"exp\"></a>"
   ]
  },
  {
   "cell_type": "markdown",
   "metadata": {},
   "source": [
    "### A."
   ]
  },
  {
   "cell_type": "markdown",
   "metadata": {},
   "source": [
    "Considere a seguinte gravação:"
   ]
  },
  {
   "cell_type": "code",
   "execution_count": null,
   "metadata": {},
   "outputs": [],
   "source": [
    "make_spect_plot('media/SAQ30062019.wav', nptf=16384, overlap=0.5, fmin=16000, fmax=22000)"
   ]
  },
  {
   "cell_type": "markdown",
   "metadata": {},
   "source": [
    "No excerto seguinte, descodifique a mensagem de Morse nele contida:"
   ]
  },
  {
   "cell_type": "code",
   "execution_count": null,
   "metadata": {
    "scrolled": false,
    "solution2": "hidden",
    "solution2_first": true
   },
   "outputs": [],
   "source": [
    "make_spect_plot_H('media/SAQ30062019.wav', nptf=8192, overlap=0.80, fmin=17000, fmax=17400, tmin=1.20, tmax=1.55)"
   ]
  },
  {
   "cell_type": "markdown",
   "metadata": {
    "solution2": "hidden"
   },
   "source": [
    "Mensagem: `THE HUNDREDTH ANAIVERSERY OF THE`"
   ]
  },
  {
   "cell_type": "markdown",
   "metadata": {
    "solution2": "hidden",
    "solution2_first": true
   },
   "source": [
    "Escolha outros intervalos de tempo e descodifique o excerto de mensagem nele contido."
   ]
  },
  {
   "cell_type": "markdown",
   "metadata": {
    "solution2": "hidden"
   },
   "source": [
    "por exemplo:"
   ]
  },
  {
   "cell_type": "code",
   "execution_count": null,
   "metadata": {
    "solution2": "hidden"
   },
   "outputs": [],
   "source": [
    "make_spect_plot_H('media/SAQ30062019.wav', nptf=8192, overlap=0.8, fmin=17000, fmax=17400, tmin=1.55, tmax=1.82)"
   ]
  },
  {
   "cell_type": "markdown",
   "metadata": {
    "solution2": "hidden"
   },
   "source": [
    "Mensagem: `FIRST EAST TO WEST VOICE`"
   ]
  },
  {
   "cell_type": "markdown",
   "metadata": {},
   "source": [
    "### B. "
   ]
  },
  {
   "cell_type": "markdown",
   "metadata": {},
   "source": [
    "O transmissor Russo `RDL` emite não só a $18.10Khz$ mas tb a $21.10Khz$. Nos seguintes espetografos conseguimos observar uma dessas transmissões. Analise as mesmas descodificando os excertos de Morse observados."
   ]
  },
  {
   "cell_type": "code",
   "execution_count": null,
   "metadata": {},
   "outputs": [],
   "source": [
    "make_spect_plot('media/RDL30062010.wav', fmin=18000)"
   ]
  },
  {
   "cell_type": "code",
   "execution_count": null,
   "metadata": {
    "solution2": "hidden",
    "solution2_first": true
   },
   "outputs": [],
   "source": [
    "make_spect_plot_H('media/RDL30062010.wav', nptf=4096, overlap=0.9, fmin=20800, fmax=21300, tmin=2.02, tmax=2.22)"
   ]
  },
  {
   "cell_type": "markdown",
   "metadata": {
    "solution2": "hidden"
   },
   "source": [
    "Morse: `XXX XXX RDL RDL`"
   ]
  },
  {
   "cell_type": "code",
   "execution_count": null,
   "metadata": {
    "scrolled": false,
    "solution2": "hidden",
    "solution2_first": true
   },
   "outputs": [],
   "source": [
    "make_spect_plot_H('media/RDL30062010.wav', nptf=4096, overlap=0.9, fmin=20800, fmax=21300, tmin=2.42, tmax=2.62)"
   ]
  },
  {
   "cell_type": "markdown",
   "metadata": {},
   "source": [
    "Depois da sequência em Morse, o trnsmissor inicia uma sequência com uma modulação digital."
   ]
  },
  {
   "cell_type": "code",
   "execution_count": null,
   "metadata": {},
   "outputs": [],
   "source": [
    "make_spect_plot_H('media/RDL30062010.wav', nptf=4096, overlap=0.9, fmin=20800, fmax=21300, tmin=2.62, tmax=2.82)"
   ]
  },
  {
   "cell_type": "markdown",
   "metadata": {
    "solution2": "hidden"
   },
   "source": [
    "Morse: `J NANOSNIK BU24`"
   ]
  },
  {
   "cell_type": "markdown",
   "metadata": {},
   "source": [
    "# 5. Links \n",
    "\n",
    "<a id=\"links\"></a>"
   ]
  },
  {
   "cell_type": "markdown",
   "metadata": {},
   "source": [
    "1. [The Alexander association](https://alexander.n.se/)\n",
    "\n",
    "2. [Código Morse](https://en.wikipedia.org/wiki/Morse_code)\n",
    "\n",
    "3. [Construção de recetores rádio como introdução à Física das Telecomunicações - parte I ](https://www.spf.pt/magazines/GFIS/113/913)\n",
    "\n",
    "4. [Construção de recetores rádio como introdução à Física das Telecomunicações - parte II ](https://www.spf.pt/magazines/GFIS/114/931)\n",
    "\n",
    "5. [Ouvindo o emissor SAQ de Grimeton ](https://www.spf.pt/magazines/GFIS/118/969)"
   ]
  },
  {
   "cell_type": "code",
   "execution_count": null,
   "metadata": {},
   "outputs": [],
   "source": []
  }
 ],
 "metadata": {
  "kernelspec": {
   "display_name": "vlf",
   "language": "python",
   "name": "vlf"
  },
  "language_info": {
   "codemirror_mode": {
    "name": "ipython",
    "version": 3
   },
   "file_extension": ".py",
   "mimetype": "text/x-python",
   "name": "python",
   "nbconvert_exporter": "python",
   "pygments_lexer": "ipython3",
   "version": "3.7.4"
  }
 },
 "nbformat": 4,
 "nbformat_minor": 1
}
