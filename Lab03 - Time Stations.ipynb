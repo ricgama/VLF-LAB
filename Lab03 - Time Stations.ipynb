{
 "cells": [
  {
   "cell_type": "markdown",
   "metadata": {},
   "source": [
    "import matplotlib.pyplot as plt\n",
    "from mpl_toolkits.basemap import Basemap\n",
    "\n",
    "%matplotlib inline\n",
    "\n",
    "import numpy as np\n",
    "import math\n",
    "\n",
    "from scipy.io.wavfile import read\n",
    "from scipy.signal import spectrogram"
   ]
  },
  {
   "cell_type": "markdown",
   "metadata": {},
   "source": [
    "# 1. Serviços de Sinal Horário"
   ]
  },
  {
   "cell_type": "markdown",
   "metadata": {},
   "source": [
    "Na Europa, existem dois transmissores de sinal horario que operam com frequâncias suficientemente baixas para conseguirmos registar o seu sinal. São eles o MSF, localizado no Reino Unido e que opera a $60kHz$, e o DCF77, localizado na Alemanha e a operar a $77.5kHz$."
   ]
  },
  {
   "cell_type": "code",
   "execution_count": null,
   "metadata": {},
   "outputs": [],
   "source": [
    "plt.figure(figsize=(8,8))\n",
    "\n",
    "lat2 = 58\n",
    "lat1 = 32.\n",
    "lon2 = 26.\n",
    "lon1 = -15.\n",
    "\n",
    "m = Basemap(resolution='l',projection='merc', llcrnrlat=lat1,urcrnrlat=lat2,llcrnrlon=lon1,urcrnrlon=lon2)\n",
    "\n",
    "m.drawcountries(linewidth=0.6,color=(0.098039, 0.098039, 0.439216))\n",
    "m.drawcoastlines(linewidth=0.6,color=(0.098039, 0.098039, 0.439216))\n",
    "m.drawparallels(np.arange(lat1,lat2,10.),labels=[1,0,0,0],color='black',dashes=[1,2],labelstyle='+/-',linewidth=0.2)  \n",
    "m.drawmeridians(np.arange(lon1,lon2,10.),labels=[0,0,0,1],color='black',dashes=[1,2],labelstyle='+/-',linewidth=0.2)\n",
    "\n",
    "lons = [-8.112222,-3.279302 ,9.008307 ]\n",
    "lats = [40.883333,54.911195 ,50.015411]\n",
    "nomes=['Arada','MSF','DCF77']\n",
    "\n",
    "m.drawgreatcircle(lons[0],lats[0],lons[1], lats[1], del_s=100.0, linewidth=1.5,color=(0.6 ,0,0))\n",
    "m.drawgreatcircle(lons[0],lats[0],lons[2], lats[2], del_s=100.0, linewidth=1.5,color=(0.6 ,0,0))\n",
    "\n",
    "x,y = m(lons,lats)\n",
    "\n",
    "m.plot(x,y,'o',markersize=5, color=(0.6,0,0),markeredgewidth=0.01)\n",
    "\n",
    "plt.text(x[0]+10000,y[0]-100000,nomes[0])\n",
    "plt.text(x[1]+10000,y[1]-100000,nomes[1])\n",
    "plt.text(x[2]+10000,y[2]-100000,nomes[2])\n",
    "\n",
    "plt.draw()\n",
    "#plt.savefig(\"RadioTime.png\", bbox_inches='tight', pad_inches=0.55, dpi=300)\n",
    "#plt.show()"
   ]
  },
  {
   "cell_type": "markdown",
   "metadata": {
    "collapsed": true
   },
   "source": [
    "# 2. Distâncias e Azimute"
   ]
  },
  {
   "cell_type": "markdown",
   "metadata": {},
   "source": [
    "Assumindo um modelo esférico para a Terra, a distância entre quaisquer dois pontos:$P_1=(lat_1,log_1)$ e $P_2=(lat_2,log_2)$ , é dada por:\n",
    "\\begin{equation}\n",
    "D= R \\arccos(\\sin(lat_1)\\sin(lat_2)+\\cos(lat_1)\\cos(lat_2)\\cos(long_2-long_1))\n",
    "\\end{equation}\n",
    "sendo $R=6371km$, o raio médio da Terra.\n",
    "\n",
    "Ver também o [link](http://www.movable-type.co.uk/scripts/latlong.html)."
   ]
  },
  {
   "cell_type": "markdown",
   "metadata": {},
   "source": [
    "O Azimute, em radianos, pode ser calculado através de:\n",
    "\n",
    "$$\\theta=\\arctan 2(Y,X),\n",
    "$$\n",
    "\n",
    "onde \n",
    "$$\n",
    "X=\\cos(lat_1)\\sin(lat_2)-\\sin(lat_1)\\cos(lat_2) \\cos(lon_2-lon_1)\n",
    "$$\n",
    "e\n",
    "$$\n",
    "Y= \\sin(lon_2-lon_1) \\cos(lat_2),\n",
    "$$\n",
    "\n",
    "onde consideramos o $P_1$ o ponto onde se localiza o nosso observatório."
   ]
  },
  {
   "cell_type": "code",
   "execution_count": null,
   "metadata": {},
   "outputs": [],
   "source": [
    "def distancia(origin, destination):\n",
    "    lat1, lon1 = origin\n",
    "    lat2, lon2 = destination\n",
    "    radius = 6371 # km\n",
    "\n",
    "    rlat1 = math.radians(lat1)\n",
    "    rlon1 = math.radians(lon1)\n",
    "    rlat2 = math.radians(lat2)\n",
    "    rlon2 = math.radians(lon2)\n",
    "    \n",
    "    a = math.sin(rlat1) * math.sin(rlat2) + math.cos(rlat1)*math.cos(rlat2)*math.cos(rlon2-rlon1)\n",
    "    d = radius * math.acos(a)\n",
    "    print'A  distância entre os dois pontos é de %fkm' %d\n",
    "    return d"
   ]
  },
  {
   "cell_type": "code",
   "execution_count": null,
   "metadata": {},
   "outputs": [],
   "source": [
    "def Azimute(origin, destination):\n",
    "    lat1, lon1 = origin\n",
    "    lat2, lon2 = destination\n",
    "\n",
    "    rlat1 = math.radians(lat1)\n",
    "    rlon1 = math.radians(lon1)\n",
    "    rlat2 = math.radians(lat2)\n",
    "    rlon2 = math.radians(lon2)\n",
    "    \n",
    "    X = math.cos(rlat1) * math.sin(rlat2) - math.sin(rlat1)*math.cos(rlat2)*math.cos(rlon2-rlon1)\n",
    "    Y = math.sin(rlon2-rlon1)*math.cos(rlat2)\n",
    "    a = math.degrees(math.atan2(Y,X))\n",
    "    print'O Azimute entre os dois pontos é de %f°' %a\n",
    "\n",
    "    return a"
   ]
  },
  {
   "cell_type": "code",
   "execution_count": null,
   "metadata": {},
   "outputs": [],
   "source": [
    "Arada = (40.883333,-8.112222)\n",
    "MSF = (54.911195,-3.279302)\n",
    "DCF77 = (50.015411,9.008307)"
   ]
  },
  {
   "cell_type": "markdown",
   "metadata": {},
   "source": [
    "## 2.1 MSF"
   ]
  },
  {
   "cell_type": "code",
   "execution_count": null,
   "metadata": {},
   "outputs": [],
   "source": [
    "d1 = distancia(Arada, MSF)"
   ]
  },
  {
   "cell_type": "code",
   "execution_count": null,
   "metadata": {},
   "outputs": [],
   "source": [
    "a1 = Azimute(Arada, MSF)"
   ]
  },
  {
   "cell_type": "markdown",
   "metadata": {},
   "source": [
    "## 2.2 DCF77"
   ]
  },
  {
   "cell_type": "code",
   "execution_count": null,
   "metadata": {},
   "outputs": [],
   "source": [
    "d2 = distancia(Arada, DCF77)"
   ]
  },
  {
   "cell_type": "code",
   "execution_count": null,
   "metadata": {},
   "outputs": [],
   "source": [
    "a2 = Azimute(Arada, DCF77)"
   ]
  },
  {
   "cell_type": "markdown",
   "metadata": {},
   "source": [
    "# 3. Codificação do sinal horário"
   ]
  },
  {
   "cell_type": "markdown",
   "metadata": {},
   "source": [
    "<img src='logfile1_02_02_2011OVERLAP.png'>"
   ]
  },
  {
   "cell_type": "code",
   "execution_count": null,
   "metadata": {},
   "outputs": [],
   "source": [
    "(sample_rate, input_signal) = read(\"data/Avelinha-5-5-2017-I.wav\")\n",
    "f, t, Sxx = spectrogram(np.sum(input_signal, axis=1),\n",
    "                        sample_rate, nperseg=512, nfft=4096)\n"
   ]
  },
  {
   "cell_type": "markdown",
   "metadata": {},
   "source": [
    "## 3.1 MSF"
   ]
  },
  {
   "cell_type": "markdown",
   "metadata": {},
   "source": [
    "Para mais informação ver os segintes links: [links1](http://www.npl.co.uk/science-technology/time-frequency/)"
   ]
  },
  {
   "cell_type": "code",
   "execution_count": null,
   "metadata": {},
   "outputs": [],
   "source": []
  },
  {
   "cell_type": "code",
   "execution_count": null,
   "metadata": {},
   "outputs": [],
   "source": []
  },
  {
   "cell_type": "code",
   "execution_count": null,
   "metadata": {},
   "outputs": [],
   "source": []
  },
  {
   "cell_type": "markdown",
   "metadata": {},
   "source": [
    "## 3.2 DSF77"
   ]
  },
  {
   "cell_type": "markdown",
   "metadata": {},
   "source": [
    "Para mais informação ver os segintes links: [links](https://en.wikipedia.org/wiki/DCF77),   [links](http://www.ptb.de/cms/en/ptb/fachabteilungen/abt4/fb-44/ag-442/dissemination-of-legal-time/dcf77.html)"
   ]
  },
  {
   "cell_type": "code",
   "execution_count": null,
   "metadata": {},
   "outputs": [],
   "source": []
  },
  {
   "cell_type": "code",
   "execution_count": null,
   "metadata": {},
   "outputs": [],
   "source": []
  },
  {
   "cell_type": "markdown",
   "metadata": {},
   "source": [
    "Links:\n",
    "1. [ Sudden Ionospheric Disturbances Monitoring Station A118](https://sidstation.loudet.org/)\n",
    "\n",
    "2. [vlf.it](http://www.vlf.it/)\n",
    "\n",
    "3. [Construção de recetores rádio como introdução à Física das Telecomunicações - parte I ](https://www.spf.pt/magazines/GFIS/113/913)\n",
    "\n",
    "4. [Construção de recetores rádio como introdução à Física das Telecomunicações - parte II ](https://www.spf.pt/magazines/GFIS/114/931)\n",
    "\n",
    "5. [Ouvindo o emissor SAQ de Grimeton ](https://www.spf.pt/magazines/GFIS/118/969)"
   ]
  }
 ],
 "metadata": {
  "kernelspec": {
   "display_name": "vlf",
   "language": "python",
   "name": "vlf"
  },
  "language_info": {
   "codemirror_mode": {
    "name": "ipython",
    "version": 3
   },
   "file_extension": ".py",
   "mimetype": "text/x-python",
   "name": "python",
   "nbconvert_exporter": "python",
   "pygments_lexer": "ipython3",
   "version": "3.7.4"
  }
 },
 "nbformat": 4,
 "nbformat_minor": 1
}
