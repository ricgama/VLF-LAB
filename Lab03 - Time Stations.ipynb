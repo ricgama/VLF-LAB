{
 "cells": [
  {
   "cell_type": "code",
   "execution_count": null,
   "metadata": {},
   "outputs": [],
   "source": [
    "%matplotlib inline\n",
    "import matplotlib.pyplot as plt\n",
    "\n",
    "from ipywidgets import interactive\n",
    "\n",
    "import numpy as np\n",
    "import scipy\n",
    "\n",
    "import soundfile as sf\n",
    "from utils import *"
   ]
  },
  {
   "cell_type": "markdown",
   "metadata": {},
   "source": [
    "# Índice"
   ]
  },
  {
   "cell_type": "markdown",
   "metadata": {},
   "source": [
    "1. [Serviços de Sinal Horário](#sinalHorario)\n",
    "    1.1 [MSF](#msf1)\n",
    "    1.2 [DCF77](#DCF771)\n",
    "2. [Codificação do sinal horário](#cod)\n",
    "    2.1 [MSF](#msf2)\n",
    "    2.2 [DCF77](#DCF772)\n",
    "3. [Explorações](#exp)\n",
    "4. [Links](#link)"
   ]
  },
  {
   "cell_type": "markdown",
   "metadata": {},
   "source": [
    "## 1. Serviços de Sinal Horário\n",
    "\n",
    "<a id=\"sinalHorario\"></a>"
   ]
  },
  {
   "cell_type": "markdown",
   "metadata": {},
   "source": [
    "Na Europa, existem dois transmissores de sinal horario que operam com frequâncias suficientemente baixas para conseguirmos registar o seu sinal usando a placa de som do computador. São eles o [MSF](https://en.wikipedia.org/wiki/Time_from_NPL_(MSF)), localizado no Reino Unido e que opera a $60kHz$, e o [DCF77](https://en.wikipedia.org/wiki/DCF77), localizado na Alemanha e a operar a $77.5kHz$."
   ]
  },
  {
   "cell_type": "code",
   "execution_count": null,
   "metadata": {},
   "outputs": [],
   "source": [
    "make_spect_plot('media/obser_001.wav', nptf=4096, overlap=0.5, fmin=55000, fmax=80000)"
   ]
  },
  {
   "cell_type": "code",
   "execution_count": null,
   "metadata": {},
   "outputs": [],
   "source": []
  },
  {
   "cell_type": "code",
   "execution_count": null,
   "metadata": {},
   "outputs": [],
   "source": [
    "Viseu = (40.6582338,-7.9123233)"
   ]
  },
  {
   "cell_type": "markdown",
   "metadata": {},
   "source": [
    "### 1.1 MSF\n",
    "<a id=\"msf1\"></a>"
   ]
  },
  {
   "cell_type": "code",
   "execution_count": null,
   "metadata": {},
   "outputs": [],
   "source": [
    "MSF = (54.911195,-3.279302)"
   ]
  },
  {
   "cell_type": "code",
   "execution_count": null,
   "metadata": {},
   "outputs": [],
   "source": [
    "d1 = distancia(MSF, Viseu)"
   ]
  },
  {
   "cell_type": "code",
   "execution_count": null,
   "metadata": {},
   "outputs": [],
   "source": [
    "a1 = azimute( MSF, Viseu)"
   ]
  },
  {
   "cell_type": "code",
   "execution_count": null,
   "metadata": {},
   "outputs": [],
   "source": [
    "mapa_2pontos_eur(MSF, Viseu, nomes=['MSF','Viseu'])"
   ]
  },
  {
   "cell_type": "markdown",
   "metadata": {},
   "source": [
    "### 1.2 DCF77\n",
    "\n",
    "<a id=\"DSF771\"></a>"
   ]
  },
  {
   "cell_type": "code",
   "execution_count": null,
   "metadata": {},
   "outputs": [],
   "source": []
  },
  {
   "cell_type": "markdown",
   "metadata": {},
   "source": [
    "<img src=\"https://upload.wikimedia.org/wikipedia/commons/thumb/6/69/Dcf77.jpg/640px-Dcf77.jpg\" alt=\"Drawing\"  style=\"width: 50%;\"/>\n",
    "\n",
    "[fonte](https://en.wikipedia.org/wiki/File:Dcf77.jpg)"
   ]
  },
  {
   "cell_type": "code",
   "execution_count": null,
   "metadata": {},
   "outputs": [],
   "source": [
    "DCF77 = (50.015411,9.008307)"
   ]
  },
  {
   "cell_type": "code",
   "execution_count": null,
   "metadata": {},
   "outputs": [],
   "source": [
    "d2 = distancia(DCF77, Viseu)"
   ]
  },
  {
   "cell_type": "code",
   "execution_count": null,
   "metadata": {},
   "outputs": [],
   "source": [
    "a2 = azimute(DCF77, Viseu)"
   ]
  },
  {
   "cell_type": "code",
   "execution_count": null,
   "metadata": {},
   "outputs": [],
   "source": [
    "mapa_2pontos_eur(DCF77, Viseu, nomes=['DCF77','Viseu'])"
   ]
  },
  {
   "cell_type": "markdown",
   "metadata": {},
   "source": [
    "## 2. Codificação do sinal horário\n",
    "\n",
    "<a id=\"cod\"></a>"
   ]
  },
  {
   "cell_type": "markdown",
   "metadata": {},
   "source": [
    "### 2.1 MSF\n",
    "<a id=\"msf2\"></a>"
   ]
  },
  {
   "cell_type": "markdown",
   "metadata": {},
   "source": [
    "Para mais informação ver os segintes links: [links](https://en.wikipedia.org/wiki/Time_from_NPL_(MSF)), [links](http://www.npl.co.uk/science-technology/time-frequency/)"
   ]
  },
  {
   "cell_type": "code",
   "execution_count": null,
   "metadata": {},
   "outputs": [],
   "source": [
    "make_spect_plot_H('media/obser_001.wav', nptf=4096, overlap=0.90, fmin=59500, fmax=60500, tmin=0.15, tmax=1.2)"
   ]
  },
  {
   "cell_type": "markdown",
   "metadata": {},
   "source": [
    "### 2.2 DSF77\n",
    "\n",
    "<a id=\"DSF772\"></a>"
   ]
  },
  {
   "cell_type": "markdown",
   "metadata": {},
   "source": [
    "Para mais informação ver os segintes links: [links](https://en.wikipedia.org/wiki/DCF77),   [links](http://www.ptb.de/cms/en/ptb/fachabteilungen/abt4/fb-44/ag-442/dissemination-of-legal-time/dcf77.html)"
   ]
  },
  {
   "cell_type": "code",
   "execution_count": null,
   "metadata": {},
   "outputs": [],
   "source": [
    "make_spect_plot_H('media/obser_001.wav', nptf=4096, overlap=0.90, fmin=77000, fmax=78000, tmin=0.15, tmax=1.2)"
   ]
  },
  {
   "cell_type": "code",
   "execution_count": null,
   "metadata": {},
   "outputs": [],
   "source": []
  },
  {
   "cell_type": "markdown",
   "metadata": {},
   "source": [
    "## 3. Explorações\n",
    "\n",
    "<a id=\"exp\"></a>"
   ]
  },
  {
   "cell_type": "code",
   "execution_count": null,
   "metadata": {},
   "outputs": [],
   "source": [
    "make_spect_plot('media/MSF26032010.wav', nptf=4096, overlap=0.5, fmin=55000, fmax=80000)"
   ]
  },
  {
   "cell_type": "code",
   "execution_count": null,
   "metadata": {},
   "outputs": [],
   "source": [
    "make_spect_plot_H('media/MSF26032010.wav', nptf=4096, overlap=0.90, fmin=59500, fmax=60500, tmin=0.15, tmax=1.2)"
   ]
  },
  {
   "cell_type": "code",
   "execution_count": null,
   "metadata": {},
   "outputs": [],
   "source": []
  },
  {
   "cell_type": "code",
   "execution_count": null,
   "metadata": {},
   "outputs": [],
   "source": []
  },
  {
   "cell_type": "markdown",
   "metadata": {},
   "source": [
    "# 4. Links \n",
    "\n",
    "<a id=\"links\"></a>"
   ]
  },
  {
   "cell_type": "markdown",
   "metadata": {},
   "source": [
    "1. [ Sudden Ionospheric Disturbances Monitoring Station A118](https://sidstation.loudet.org/)\n",
    "\n",
    "2. [vlf.it](http://www.vlf.it/)\n",
    "\n",
    "3. [Construção de recetores rádio como introdução à Física das Telecomunicações - parte I ](https://www.spf.pt/magazines/GFIS/113/913)\n",
    "\n",
    "4. [Construção de recetores rádio como introdução à Física das Telecomunicações - parte II ](https://www.spf.pt/magazines/GFIS/114/931)\n",
    "\n",
    "5. [Ouvindo o emissor SAQ de Grimeton ](https://www.spf.pt/magazines/GFIS/118/969)"
   ]
  }
 ],
 "metadata": {
  "kernelspec": {
   "display_name": "vlf",
   "language": "python",
   "name": "vlf"
  },
  "language_info": {
   "codemirror_mode": {
    "name": "ipython",
    "version": 3
   },
   "file_extension": ".py",
   "mimetype": "text/x-python",
   "name": "python",
   "nbconvert_exporter": "python",
   "pygments_lexer": "ipython3",
   "version": "3.7.4"
  }
 },
 "nbformat": 4,
 "nbformat_minor": 1
}
